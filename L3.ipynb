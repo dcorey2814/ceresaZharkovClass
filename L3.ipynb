{
 "cells": [
  {
   "cell_type": "markdown",
   "metadata": {},
   "source": [
    "## The Ceresa-Zharkov class for $L_3$\n",
    "\n",
    "Let $\\Gamma$ be the tropical curve whose underlying graph is $L_3$ (the graph with 3 vertices, and 2 edges connecting each pair of edges) and whose edges each have length 1. In this notebook, we compute the image of\n",
    "\n",
    "$$\n",
    "(\\delta_{\\Gamma}-I)^2 : F_1(L) \\to F_{3}(L)\n",
    "$$\n",
    "\n",
    "which is used to show that the Ceresa-Zharkov class of $\\Gamma$ is nontrivial. We use the notation from the paper. "
   ]
  },
  {
   "cell_type": "code",
   "execution_count": 1,
   "metadata": {},
   "outputs": [
    {
     "name": "stdout",
     "output_type": "stream",
     "text": [
      " -----    -----    -----      -      -----   \n",
      "|     |  |     |  |     |    | |    |     |  \n",
      "|     |  |        |         |   |   |     |  \n",
      "|     |   -----   |        |     |  |-----   \n",
      "|     |        |  |        |-----|  |   |    \n",
      "|     |  |     |  |     |  |     |  |    |   \n",
      " -----    -----    -----   -     -  -     -  \n",
      "\n",
      "...combining (and extending) ANTIC, GAP, Polymake and Singular\n",
      "Version\u001b[32m 0.12.1 \u001b[39m... \n",
      " ... which comes with absolutely no warranty whatsoever\n",
      "Type: '?Oscar' for more information\n",
      "(c) 2019-2023 by The OSCAR Development Team\n"
     ]
    }
   ],
   "source": [
    "using Oscar"
   ]
  },
  {
   "cell_type": "markdown",
   "metadata": {},
   "source": [
    "The polarization matrix $Q_{\\Gamma}$ for $\\Gamma$ is the following matrix `Q`."
   ]
  },
  {
   "cell_type": "code",
   "execution_count": 2,
   "metadata": {},
   "outputs": [
    {
     "data": {
      "text/plain": [
       "[2   0   1   1]\n",
       "[0   2   1   1]\n",
       "[1   1   3   2]\n",
       "[1   1   2   3]"
      ]
     },
     "execution_count": 2,
     "metadata": {},
     "output_type": "execute_result"
    }
   ],
   "source": [
    "Q = matrix(ZZ, 4, 4, [2 0 1 1; 0 2 1 1; 1 1 3 2; 1 1 2 3])"
   ]
  },
  {
   "cell_type": "markdown",
   "metadata": {},
   "source": [
    "Next, we create the $8\\times 8$ matrix \n",
    "\n",
    "$$\n",
    "\\delta_{\\Gamma} = \\begin{bmatrix}\n",
    "I & 0 \\\\\n",
    "Q_{\\Gamma} & I\n",
    "\\end{bmatrix}\n",
    "$$\n",
    "\n",
    "Note that, in comparison to the paper, coordinates $1,2,3,4$ correspond to $\\alpha_1,\\alpha_2,\\alpha_3,\\alpha_4$ and coordinates $5,6,7,8$ correspond to $\\beta_1,\\beta_2,\\beta_3,\\beta_4$. "
   ]
  },
  {
   "cell_type": "code",
   "execution_count": 3,
   "metadata": {},
   "outputs": [
    {
     "data": {
      "text/plain": [
       "[1   0   0   0   0   0   0   0]\n",
       "[0   1   0   0   0   0   0   0]\n",
       "[0   0   1   0   0   0   0   0]\n",
       "[0   0   0   1   0   0   0   0]\n",
       "[2   0   1   1   1   0   0   0]\n",
       "[0   2   1   1   0   1   0   0]\n",
       "[1   1   3   2   0   0   1   0]\n",
       "[1   1   2   3   0   0   0   1]"
      ]
     },
     "execution_count": 3,
     "metadata": {},
     "output_type": "execute_result"
    }
   ],
   "source": [
    "id8 = Array{Int}(undef, 8, 8)\n",
    "D = Array{Int}(undef, 8, 8)\n",
    "for i in 1:8, j in 1:8\n",
    "    if i>=5 && j <=4\n",
    "        D[i,j] = Q[i-4,j]\n",
    "        id8[i,j] = 0\n",
    "    elseif i==j\n",
    "        id8[i,j] = 1\n",
    "        D[i,j] = 1\n",
    "    else\n",
    "        id8[i,j] = 0\n",
    "        D[i,j] = 0\n",
    "    end\n",
    "end\n",
    "\n",
    "id8 = matrix(ZZ, id8)\n",
    "delta = matrix(ZZ, D)"
   ]
  },
  {
   "cell_type": "markdown",
   "metadata": {},
   "source": [
    "The 3rd exterior power of `delta` is the $56 \\times 56$ matrix whose entries are labeled by the 3-element sets of $\\{1,\\ldots,8\\}$ in reverse lexicographic order.  "
   ]
  },
  {
   "cell_type": "code",
   "execution_count": 4,
   "metadata": {},
   "outputs": [],
   "source": [
    "coord_wedge3 = subsets(collect(1:8), 3);\n",
    "sort!(coord_wedge3, by = x->reverse(x));\n",
    "id56 = exterior_power(id8,3);\n",
    "delta_wedge3 = exterior_power(delta,3);"
   ]
  },
  {
   "cell_type": "markdown",
   "metadata": {},
   "source": [
    "The matrix $(\\delta-I)^{2}$ is:"
   ]
  },
  {
   "cell_type": "code",
   "execution_count": 5,
   "metadata": {},
   "outputs": [],
   "source": [
    "delta_wedge3_power2 = (delta_wedge3-id56)^2 ;"
   ]
  },
  {
   "cell_type": "markdown",
   "metadata": {},
   "source": [
    "The rows of `delta_wedge3_power2` corresponding to $\\beta_{1} \\wedge \\beta_{2} \\wedge \\beta_{3}$, $\\beta_{1} \\wedge \\beta_{2} \\wedge \\beta_{4}$, $\\beta_{1} \\wedge \\beta_{3} \\wedge \\beta_{4}$,\n",
    "$\\beta_{2} \\wedge \\beta_{3} \\wedge \\beta_{4}$ have indices `35, 50, 55, 56`, respectively (that is, these are the position in reverse lexicographic order of the triples 567, 568, 578, 678). \n",
    "\n",
    "Similarly, the columns of `delta_wedge3_power2` corresponding to $\\alpha_{1} \\wedge \\alpha_{2} \\wedge \\alpha_{3}$, $\\alpha_{1} \\wedge \\alpha_{2} \\wedge \\alpha_{4}$, $\\alpha_{1} \\wedge \\alpha_{3} \\wedge \\alpha_{4}$,\n",
    "$\\alpha_{2} \\wedge \\alpha_{3} \\wedge \\alpha_{4}$ have indices `1,2,3,4`, respectively (that is, these are the position in reverse lexicographic order of the triples 123, 124, 134, 234). "
   ]
  },
  {
   "cell_type": "code",
   "execution_count": 6,
   "metadata": {},
   "outputs": [
    {
     "data": {
      "text/plain": [
       "4-element Vector{Int64}:\n",
       " 35\n",
       " 50\n",
       " 55\n",
       " 56"
      ]
     },
     "execution_count": 6,
     "metadata": {},
     "output_type": "execute_result"
    }
   ],
   "source": [
    "rows_beta = findall(x->length(intersect(x,[5,6,7,8])) == length(x), coord_wedge3)"
   ]
  },
  {
   "cell_type": "markdown",
   "metadata": {},
   "source": [
    "The matrix of $(\\delta_{\\Gamma}-I)^2 : F_1(L) \\to F_{3}(L)$ is thus the $4\\times 52$ submatrix of `delta_wedge3_power2` whose rows are `35, 50, 55, 56` and whose columns are `5, 6, ..., 56`. Note that the image of this map coincides with the image of $(\\delta_{\\Gamma}-I)^2 : F_1(L/H) \\to F_{3}(L/H)$ as $F_{3}(L) = F_{3}(L/H)$.  We record this as the matrix `A`. "
   ]
  },
  {
   "cell_type": "code",
   "execution_count": 7,
   "metadata": {},
   "outputs": [],
   "source": [
    "A = delta_wedge3_power2[rows_beta,5:56];"
   ]
  },
  {
   "cell_type": "markdown",
   "metadata": {},
   "source": [
    "The image of `A` is the submodule of $\\mathbb{Z}^{4}$ spanned by the rows of `A`. "
   ]
  },
  {
   "cell_type": "code",
   "execution_count": 8,
   "metadata": {},
   "outputs": [],
   "source": [
    "F = FreeModule(ZZ, 4);\n",
    "G = unique!([F([ZZ(A[i,j]) for i in 1:4]) for j in 1:52]);\n",
    "Im, _ = sub(F, G);"
   ]
  },
  {
   "cell_type": "markdown",
   "metadata": {},
   "source": [
    "We compute the generators of this image:"
   ]
  },
  {
   "cell_type": "code",
   "execution_count": 9,
   "metadata": {},
   "outputs": [
    {
     "data": {
      "text/plain": [
       "4-element Vector{AbstractAlgebra.Generic.FreeModuleElem{ZZRingElem}}:\n",
       " (2, 2, 0, 2)\n",
       " (0, 4, 0, 0)\n",
       " (0, 0, 2, 2)\n",
       " (0, 0, 0, 4)"
      ]
     },
     "execution_count": 9,
     "metadata": {},
     "output_type": "execute_result"
    }
   ],
   "source": [
    "Im.gens"
   ]
  },
  {
   "cell_type": "markdown",
   "metadata": {},
   "source": [
    "and conclude that the image of \n",
    "\n",
    "$$\n",
    "(\\delta_{\\Gamma}-I)^2 : F_1(L) \\to F_{3}(L)\n",
    "$$\n",
    "\n",
    "is generated by the vectors \n",
    "\n",
    "\\begin{align}\n",
    "&2 \\beta_1 \\wedge \\beta_2 \\wedge \\beta_3 + 2 \\beta_1 \\wedge \\beta_2 \\wedge \\beta_4 + 2 \\beta_2 \\wedge \\beta_3 \\wedge \\beta_4, \\hspace{10pt} 4 \\beta_1\\wedge \\beta_2 \\wedge \\beta_4, \\\\\n",
    "&2 \\beta_1 \\wedge \\beta_3 \\wedge \\beta_4 + 2 \\beta_2 \\wedge \\beta_3 \\wedge \\beta_4, \\hspace{10pt} 4 \\beta_2 \\wedge \\beta_3 \\wedge \\beta_4\n",
    "\\end{align}"
   ]
  }
 ],
 "metadata": {
  "kernelspec": {
   "display_name": "Julia 1.8.5",
   "language": "julia",
   "name": "julia-1.8"
  },
  "language_info": {
   "file_extension": ".jl",
   "mimetype": "application/julia",
   "name": "julia",
   "version": "1.8.5"
  }
 },
 "nbformat": 4,
 "nbformat_minor": 4
}
